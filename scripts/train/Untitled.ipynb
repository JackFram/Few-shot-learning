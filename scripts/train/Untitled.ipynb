{
 "cells": [
  {
   "cell_type": "code",
   "execution_count": 1,
   "metadata": {
    "collapsed": true
   },
   "outputs": [],
   "source": [
    "import sys\n",
    "sys.path.append(\"..\")\n",
    "import dataloader.omniglot as omn_loader"
   ]
  },
  {
   "cell_type": "code",
   "execution_count": 2,
   "metadata": {
    "collapsed": true
   },
   "outputs": [],
   "source": [
    "data = omn_loader.load([\"train\"])"
   ]
  },
  {
   "cell_type": "code",
   "execution_count": 3,
   "metadata": {},
   "outputs": [],
   "source": [
    "from models.baseline import baseline_model,encoder"
   ]
  },
  {
   "cell_type": "code",
   "execution_count": 4,
   "metadata": {},
   "outputs": [],
   "source": [
    "model = baseline_model(encoder(1,64,64))"
   ]
  },
  {
   "cell_type": "code",
   "execution_count": 8,
   "metadata": {
    "collapsed": true
   },
   "outputs": [],
   "source": [
    "import torch\n",
    "import torch.optim as optim\n",
    "import torch.optim.lr_scheduler as lr_scheduler "
   ]
  },
  {
   "cell_type": "code",
   "execution_count": null,
   "metadata": {},
   "outputs": [
    {
     "name": "stdout",
     "output_type": "stream",
     "text": [
      "tensor(2.2680, grad_fn=<NegBackward>) {'loss': 2.2679693698883057, 'acc': 0.4300000071525574}\n",
      "tensor(2.4200, grad_fn=<NegBackward>) {'loss': 2.420046329498291, 'acc': 0.4099999964237213}\n",
      "tensor(2.1516, grad_fn=<NegBackward>) {'loss': 2.151637077331543, 'acc': 0.4699999988079071}\n",
      "tensor(2.3407, grad_fn=<NegBackward>) {'loss': 2.3407297134399414, 'acc': 0.4033333361148834}\n",
      "tensor(2.3351, grad_fn=<NegBackward>) {'loss': 2.3351259231567383, 'acc': 0.44333332777023315}\n",
      "tensor(2.0545, grad_fn=<NegBackward>) {'loss': 2.0544726848602295, 'acc': 0.47999998927116394}\n",
      "tensor(2.0491, grad_fn=<NegBackward>) {'loss': 2.0491256713867188, 'acc': 0.4566666781902313}\n",
      "tensor(1.9959, grad_fn=<NegBackward>) {'loss': 1.9958878755569458, 'acc': 0.47999998927116394}\n"
     ]
    }
   ],
   "source": [
    "\n",
    "model.train()\n",
    "optimizer = optim.Adam(model.parameters(),lr=0.0001)\n",
    "for idx,image in enumerate(data[\"train\"]):\n",
    "    loss,acc = model.forward(image)\n",
    "    optimizer.zero_grad()\n",
    "    loss.backward()\n",
    "    optimizer.step()\n",
    "    print(loss,acc)\n",
    "    if(idx==10):\n",
    "        break"
   ]
  },
  {
   "cell_type": "code",
   "execution_count": 8,
   "metadata": {
    "collapsed": true
   },
   "outputs": [],
   "source": []
  },
  {
   "cell_type": "code",
   "execution_count": 10,
   "metadata": {},
   "outputs": [
    {
     "ename": "TypeError",
     "evalue": "log_softmax() missing 1 required positional argument: 'input'",
     "output_type": "error",
     "traceback": [
      "\u001b[0;31m---------------------------------------------------------------------------\u001b[0m",
      "\u001b[0;31mTypeError\u001b[0m                                 Traceback (most recent call last)",
      "\u001b[0;32m<ipython-input-10-a158cccee4cf>\u001b[0m in \u001b[0;36m<module>\u001b[0;34m()\u001b[0m\n\u001b[0;32m----> 1\u001b[0;31m \u001b[0mhelp\u001b[0m\u001b[0;34m(\u001b[0m\u001b[0mF\u001b[0m\u001b[0;34m.\u001b[0m\u001b[0mlog_softmax\u001b[0m\u001b[0;34m(\u001b[0m\u001b[0;34m)\u001b[0m\u001b[0;34m)\u001b[0m\u001b[0;34m\u001b[0m\u001b[0m\n\u001b[0m",
      "\u001b[0;31mTypeError\u001b[0m: log_softmax() missing 1 required positional argument: 'input'"
     ]
    }
   ],
   "source": []
  },
  {
   "cell_type": "code",
   "execution_count": null,
   "metadata": {
    "collapsed": true
   },
   "outputs": [],
   "source": []
  }
 ],
 "metadata": {
  "kernelspec": {
   "display_name": "Python 3",
   "language": "python",
   "name": "python3"
  },
  "language_info": {
   "codemirror_mode": {
    "name": "ipython",
    "version": 3
   },
   "file_extension": ".py",
   "mimetype": "text/x-python",
   "name": "python",
   "nbconvert_exporter": "python",
   "pygments_lexer": "ipython3",
   "version": "3.6.2"
  }
 },
 "nbformat": 4,
 "nbformat_minor": 2
}
